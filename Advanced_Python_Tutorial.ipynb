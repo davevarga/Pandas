{
 "cells": [
  {
   "cell_type": "markdown",
   "id": "1192a7d5-3ef4-4212-8afd-49827ead294c",
   "metadata": {},
   "source": [
    "# Lists"
   ]
  },
  {
   "cell_type": "markdown",
   "id": "ffc714b7-de40-493d-8ee4-817daf41ba49",
   "metadata": {},
   "source": [
    "A list is a collection data type that is ordered, mutable and allows duplicate elements. In Python lists can be defined by using brackets, and we can add elements using coma. Lists can contain integer, boolean, string etc. To get an element from the list we can use the [] operator, which takes as an input the index of the intended element. Python uses iterable lists, which allow for loops to iterate through the collection."
   ]
  },
  {
   "cell_type": "code",
   "execution_count": 11,
   "id": "a473d12f-ec33-469c-9794-c5aad6807abf",
   "metadata": {},
   "outputs": [
    {
     "name": "stdout",
     "output_type": "stream",
     "text": [
      "banana\n",
      "cherry\n",
      "apple\n"
     ]
    }
   ],
   "source": [
    "list = [\"banana\", \"cherry\", \"apple\"]\n",
    "\n",
    "# Iterate through list\n",
    "for element in list:\n",
    "    print(element)"
   ]
  },
  {
   "cell_type": "markdown",
   "id": "ed98d77d-7df5-4610-ac93-48f437057fc4",
   "metadata": {},
   "source": [
    "Checking if an element is in the list is also easy. Although list have *contains()* method, this can be simply replaced by an *in* operator which better approximates human language. Similarly, concatanating can be simply conducted with the *+* operator. Other methods that are implemented in python are sorting, filtering, merging etc. The documentation can be viewed in"
   ]
  },
  {
   "cell_type": "code",
   "execution_count": 30,
   "id": "7fd24224-4ff5-42ab-8725-a2040bfb2c78",
   "metadata": {},
   "outputs": [
    {
     "name": "stdout",
     "output_type": "stream",
     "text": [
      "Apple is in the list\n",
      "['banana', 'cherry', 'apple', 'watermelon', 'watermelon', 'watermelon']\n"
     ]
    }
   ],
   "source": [
    "# Chech containment\n",
    "if \"apple\" in list:\n",
    "    print(\"Apple is in the list\")\n",
    "\n",
    "# Example for + and * operators\n",
    "new_list = [\"watermelon\"] * 3\n",
    "list = list + new_list\n",
    "print(list)"
   ]
  },
  {
   "cell_type": "markdown",
   "id": "009ca1b6-c7ea-46a1-a5d5-77897f5b4ab3",
   "metadata": {},
   "source": [
    "Slicing is a very important way we can access parts of the list using a colon. The operator is used similarly to indexing, but it returns a list. If we don't specify a start, then it start all the way from the beginning, and if we don't specify a stop index, then it goes all the way to the end. We can also give an optional step index. This by default is one."
   ]
  },
  {
   "cell_type": "markdown",
   "id": "0b76f762-e89e-48d2-be7c-96a57eb00fd4",
   "metadata": {},
   "source": [
    "# Tuples"
   ]
  },
  {
   "cell_type": "markdown",
   "id": "b03073f3-5576-400c-86ce-a3ae7a948941",
   "metadata": {},
   "source": [
    "Tuples are also a collection data type that is ordered and imutable. The difference between tuples and lists, is that tuples cannot be changed. Tuples are often used while returning the solution of a function, since we don't want any inconsistencies between the function and the program. If we try to change the value of a tuple we will get a type error. Besides that, working with tuples corresponds with working working with lists."
   ]
  },
  {
   "cell_type": "code",
   "execution_count": 47,
   "id": "1f938442-d98b-481b-8b6f-b59c752352a7",
   "metadata": {},
   "outputs": [
    {
     "name": "stdout",
     "output_type": "stream",
     "text": [
      "(3, 4, 5) <class 'tuple'>\n"
     ]
    }
   ],
   "source": [
    "# Define tuple with parantheses\n",
    "tuple = ('a', 'p', 'p', 'l', 'e')\n",
    "\n",
    "# Slicing is also recognized\n",
    "a = (1, 2, 3, 4, 5, 6, 7, 8, 9, 10)\n",
    "b = a[2:5]\n",
    "print(b, type(b))"
   ]
  },
  {
   "cell_type": "markdown",
   "id": "724a519b-bbdd-4dcc-9589-eae8a43910dc",
   "metadata": {},
   "source": [
    "Using tuples for returning function elements also gives us the opportunity to return multiple separate elements, because tuples can be segmented using assignemt to multiple variables. This is referred as unpacking"
   ]
  },
  {
   "cell_type": "code",
   "execution_count": 50,
   "id": "3697b00e-3cca-4bea-b2dd-07ab7b0cc56a",
   "metadata": {},
   "outputs": [
    {
     "name": "stdout",
     "output_type": "stream",
     "text": [
      "Maria <class 'str'> 3 <class 'int'> False <class 'bool'>\n"
     ]
    }
   ],
   "source": [
    "# Unpacking with tuple\n",
    "tuple = \"Maria\", 3, False\n",
    "a, b, c = tuple\n",
    "print(a, type(a), b, type(b), c, type(c))"
   ]
  },
  {
   "cell_type": "markdown",
   "id": "b60e5d33-e5a9-4935-9b06-625aa74db476",
   "metadata": {},
   "source": [
    "A lits is always larger because it uses more bytes for the same elements. Therefore it is more efficient to work with tuples than with lists. This is partly due to different compiling of lists and tuples, so it is considered a management overhead."
   ]
  },
  {
   "cell_type": "code",
   "execution_count": 55,
   "id": "d8cfe6e6-73a3-42da-b27f-e50df23e237d",
   "metadata": {},
   "outputs": [
    {
     "name": "stdout",
     "output_type": "stream",
     "text": [
      "104 bytes\n",
      "80 bytes\n",
      "0.0557221000053687\n",
      "0.011612999995122664\n"
     ]
    }
   ],
   "source": [
    "# Size difference between lists and tuples\n",
    "import sys\n",
    "list = [0, 1, 2, \"hello\", True]\n",
    "tuple = (0, 1, 2, \"hello\", True)\n",
    "print(sys.getsizeof(list), \"bytes\")\n",
    "print(sys.getsizeof(tuple), \"bytes\")\n",
    "\n",
    "# Efficiency difference between lists and tuples\n",
    "import timeit\n",
    "print(timeit.timeit(stmt=\"[0, 1, 2, 3, 4, 5]\", number=1000000))\n",
    "print(timeit.timeit(stmt=\"(0, 1, 2, 3, 4, 5)\", number=1000000))"
   ]
  },
  {
   "cell_type": "markdown",
   "id": "f999b80b-02b3-45b8-9636-516014c8e7bd",
   "metadata": {},
   "source": [
    "# Dictionaries"
   ]
  },
  {
   "cell_type": "markdown",
   "id": "68fd8641-e491-437a-b13e-cc9d6e29b1ef",
   "metadata": {},
   "source": [
    "Dictionary is a collection data type that is unordered and mutable. It consists of a collection of key-value pairs. So each key-value pair maps the key to its associated value. Values are referenced using the key. Trying to index a non existing key will return a Type error. Interestingly we can reference values without using the key, but, of course, it will be inefficient."
   ]
  },
  {
   "cell_type": "code",
   "execution_count": 82,
   "id": "45bbb3e9-fcbe-48d7-b975-f0ed6eb90c88",
   "metadata": {},
   "outputs": [
    {
     "name": "stdout",
     "output_type": "stream",
     "text": [
      "28\n"
     ]
    }
   ],
   "source": [
    "my_dict = {\"name\": \"Max\", \"age\": 28, \"merried\": False}\n",
    "value = my_dict[\"age\"]\n",
    "print(value)"
   ]
  },
  {
   "cell_type": "markdown",
   "id": "3c11ffe8-d97d-4be9-aa1a-dc00d1cab69b",
   "metadata": {},
   "source": [
    "Not only we can check if a key is in the dictionary but if a value is contained as well. Consequently we can loop through both values and keys."
   ]
  },
  {
   "cell_type": "code",
   "execution_count": 87,
   "id": "b921b93a-9199-4e89-9ef7-bc6de1cb36d7",
   "metadata": {},
   "outputs": [
    {
     "name": "stdout",
     "output_type": "stream",
     "text": [
      "The name in the example is Max\n",
      "name Max\n",
      "age 28\n",
      "merried False\n"
     ]
    }
   ],
   "source": [
    "# If statement can be replaced by try-catch block as well\n",
    "if \"name\" in my_dict:\n",
    "    print(\"The name in the example is\", my_dict[\"name\"])\n",
    "\n",
    "# Looping through the dictionary\n",
    "for key, value in my_dict.items():\n",
    "    print(key, value)"
   ]
  },
  {
   "cell_type": "markdown",
   "id": "7a7c6280-320c-4501-bb35-e55aa86d2bbc",
   "metadata": {},
   "source": [
    "When copying a dictionary we have to be careful. Assignment operator doesn't copy the values of variables but the pointer of the dictionary. Therefore manipulating one dictionary will inevitably affect the other dictionary as well. It is wise to use other functions for copying dictionaries. We can also merge dictionaries. Duplicate key-value elements will be simplified, but in case of different values for the same key, the second operand's values will be relevant."
   ]
  },
  {
   "cell_type": "code",
   "execution_count": 89,
   "id": "93fc87cd-e4c0-4925-941e-d630e58edcee",
   "metadata": {},
   "outputs": [
    {
     "name": "stdout",
     "output_type": "stream",
     "text": [
      "{'name': 'Max', 'age': 28, 'merried': False, 'email': 'max@gmail.com'}\n",
      "{'name': 'Max', 'age': 28, 'merried': False, 'email': 'max@gmail.com'}\n",
      "{'name': 'Max', 'age': 29, 'merried': False, 'email': 'max@gmail.com', 'gender': 'Male'}\n"
     ]
    }
   ],
   "source": [
    "# How not to do it\n",
    "new_dict = my_dict\n",
    "new_dict[\"email\"] = \"max@gmail.com\"\n",
    "print(my_dict)\n",
    "\n",
    "# Instead use copy function\n",
    "new_dict = my_dict.copy()\n",
    "new_dict[\"gender\"] = \"Male\"\n",
    "print(my_dict)\n",
    "\n",
    "# Merging two dictionaries\n",
    "new_dict[\"age\"] = 29\n",
    "my_dict.update(new_dict)\n",
    "print(my_dict)"
   ]
  },
  {
   "cell_type": "markdown",
   "id": "1da5a0c2-b4dd-4d50-9511-b5cad84b86b2",
   "metadata": {},
   "source": [
    "Note: Almost enithing can be used as a key, if it is inmutable. For example a tuple can be used as a key, but a list cannot."
   ]
  },
  {
   "cell_type": "markdown",
   "id": "4186cd82-9f0d-4fd5-8a00-29c3e5f77cff",
   "metadata": {},
   "source": [
    "# Sets"
   ]
  },
  {
   "cell_type": "markdown",
   "id": "d3eef64c-018d-4425-ad8c-602e2268589c",
   "metadata": {},
   "source": [
    "A set is a collection data type that is unordered and mutable. But unlike lists, or tuples, it does not allow duplicate elements. Similar to the mathematical set theory if we insert a value in a set that is already contained, then the set does not include it. Adding and removing elements are conducted by *add()* and *remove()* functions for specific elements, but also with *pop()* method, which removes the element that has been included for the last time. Sets have been often used to mirror the behaviour of mathematical functions like union, intersection etc. These functions do modify the sets. For this purpose special, *update()* functions are defined for each method. "
   ]
  },
  {
   "cell_type": "code",
   "execution_count": 110,
   "id": "6eebdd59-b52f-48d3-826e-ce46153bd194",
   "metadata": {},
   "outputs": [
    {
     "name": "stdout",
     "output_type": "stream",
     "text": [
      "{1, 2, 3, 5, 7, 9}\n",
      "{3, 5, 7}\n",
      "{0, 8, 4, 6}\n",
      "{0, 3, 4, 5, 6, 7, 8}\n"
     ]
    }
   ],
   "source": [
    "odds = {1, 3, 5, 7, 9}\n",
    "evens = {0, 2, 4, 6, 8}\n",
    "primes = {2, 3, 5, 7}\n",
    "\n",
    "# Returns non duplicate elements from each set\n",
    "union = odds.union(primes)\n",
    "print(union)\n",
    "\n",
    "# Returns element contain by both odds and prime sets\n",
    "intersection = odds.intersection(primes)\n",
    "print(intersection)\n",
    "\n",
    "# Return all elements from the first set that are not in the second set\n",
    "difference = evens.difference(primes)\n",
    "print(difference)\n",
    "\n",
    "# Returns all elements from both sets, that are not shared.\n",
    "symmetric_difference = evens.symmetric_difference(primes)\n",
    "print(symmetric_difference)"
   ]
  },
  {
   "cell_type": "markdown",
   "id": "579f24cd-d660-4fa7-8767-d0a45160fdb0",
   "metadata": {},
   "source": [
    "Furthermore we can easily calculate if a set is a *subset* or a *superset* of another set. A subset means that all the elements of the first set are contained by the second set. The opposite is called the *superset* method, in which case it returns true, if the first set contains all the element from the second set. We can also calculate disjoint set, if the two sets do not share elements."
   ]
  },
  {
   "cell_type": "code",
   "execution_count": 118,
   "id": "4c0fc310-4465-4081-98f2-ab8156352a25",
   "metadata": {},
   "outputs": [
    {
     "name": "stdout",
     "output_type": "stream",
     "text": [
      "Set A is the subset of the B set:  False\n",
      "Set A is the superset of the B set:  True\n",
      "Set A is disjoint with set C:  False\n",
      "Set B is disjiont with set C:  True\n"
     ]
    }
   ],
   "source": [
    "setA = {1, 2, 3, 4, 5, 6, 7, 8, 9}\n",
    "setB = {1, 2, 3}\n",
    "setC = {0, 5, 6, 7}\n",
    "\n",
    "# All of the elements of a subset must be contained by another set\n",
    "print(\"Set A is the subset of the B set: \", setA.issubset(setB))\n",
    "\n",
    "# Superset contains all the elements of another set\n",
    "print(\"Set A is the superset of the B set: \", setA.issuperset(setB))\n",
    "\n",
    "# Disjoint is true if the intersection is null\n",
    "print(\"Set A is disjoint with set C: \", setA.isdisjoint(setC))\n",
    "print(\"Set B is disjiont with set C: \", setB.isdisjoint(setC))"
   ]
  },
  {
   "cell_type": "markdown",
   "id": "ff646401-db6a-4963-8f1c-1e73b00827eb",
   "metadata": {},
   "source": [
    "The **frozen set** is also a collection type that is the immutable version of a normal set."
   ]
  },
  {
   "cell_type": "markdown",
   "id": "3825731c-8acf-4653-ae16-e17d81582de8",
   "metadata": {},
   "source": [
    "# Strings"
   ]
  },
  {
   "cell_type": "markdown",
   "id": "cd2a21e4-c5f6-46df-b43d-d81d37857748",
   "metadata": {},
   "source": [
    "A **String** is an ordered and immutable collection data type, that is used for text representation, therefore is one of the most used data types in Python. A string is created with either single or double quotes. If a quote is part of string, then it is recommended to use double quotes for defining the string, as single quotes will be interpreted as part of the string. \n",
    "\n",
    "In some cases triple quotes are used if the text spans multiple lines. In this case backslash is used, if we want to wrap the text in code, without adding a new line character. Be careful, as triple quotes are used for code documentation as well.\n",
    "\n",
    "As a list, characters can be accessed by indexing the string. Keep in mind that the string is inmutable, therefore character assignment throws an exception. Furthermore all methods used with lists can be used with lists as well."
   ]
  },
  {
   "cell_type": "code",
   "execution_count": 183,
   "id": "646b6342-746f-4708-8bc1-52cf6b8f8719",
   "metadata": {},
   "outputs": [
    {
     "name": "stdout",
     "output_type": "stream",
     "text": [
      "Using slicing:  Hello\n",
      "A string can be easily reversed:  dlroW olleH\n",
      "We can check for containment easily\n"
     ]
    }
   ],
   "source": [
    "my_string = \"Hello World\"\n",
    "\n",
    "# Slicing is very useful in case of strings\n",
    "print(\"Using slicing: \", my_string[:5])\n",
    "print(\"A string can be easily reversed: \", my_string[::-1])\n",
    "\n",
    "# Checking for containment with in operand\n",
    "if 'Hello' in my_string:\n",
    "    print(\"We can check for containment easily\")"
   ]
  },
  {
   "cell_type": "markdown",
   "id": "7c83b80c-d065-42c6-bd3d-4204edda2e08",
   "metadata": {},
   "source": [
    "Although, most important string methods are those, which change the semantics of the string value. Not only does Python offer a variety of methods for formating a string such as *upper()*, *lower()*, *strip()*, etc., but also includes standard formulas such as *startswith()*, *endswith()*, and of course pattern matching. Basically every SQL formula can be expressed by using Python built in string functions. "
   ]
  },
  {
   "cell_type": "code",
   "execution_count": 185,
   "id": "e0fb39ca-6cda-4f59-a378-961ff3e461fe",
   "metadata": {},
   "outputs": [
    {
     "name": "stdout",
     "output_type": "stream",
     "text": [
      "Have it greeted us?:  True\n",
      "Computer started:  Hello David\n"
     ]
    }
   ],
   "source": [
    "# Check for greetings\n",
    "print(\"Have it greeted us?: \", my_string.startswith(\"Hello\"))\n",
    "\n",
    "# Replace substring in string\n",
    "print(\"Computer started: \", my_string.lower().replace(\"world\", \"david\").title())"
   ]
  },
  {
   "cell_type": "markdown",
   "id": "ef4d5ef1-f172-48c4-b90d-591443112d10",
   "metadata": {},
   "source": [
    "Because string and lists are very similar we can convert them easily. For that we have to use a delimitar paramether that specifies the start end end of each element. If no delimiter is specified than each character is a separate list element. For merging a list of characters or strings back into a string type, we recommend using the *join()* function, as the *+* operator always creates a new string (because strings are immutable), and therefore is expensive."
   ]
  },
  {
   "cell_type": "code",
   "execution_count": 219,
   "id": "fb0c7835-aa51-4cc0-a4cd-8eb05446ee63",
   "metadata": {},
   "outputs": [
    {
     "name": "stdout",
     "output_type": "stream",
     "text": [
      "New string into a list:  ['how', 'are', 'you', 'doint']\n",
      "Joining: howareyoudoint --Time: 3.1099989428184927e-05\n",
      "Concatanating: howareyoudoint --Time: 3.8300000596791506e-05\n"
     ]
    }
   ],
   "source": [
    "from timeit import default_timer as timer\n",
    "\n",
    "# Separate string into a list\n",
    "new_string = \"how,are,you,doint\"\n",
    "new_list = new_string.split(',')\n",
    "print(\"New string into a list: \", new_list)\n",
    "\n",
    "# Joining the list elements to a string using a function\n",
    "start = timer()\n",
    "new_string = ''.join(new_list)\n",
    "stop = timer()\n",
    "print(f\"Joining: {new_string} --Time: {stop - start}\")\n",
    "\n",
    "# Concatanating list elements back into a string\n",
    "start = timer()\n",
    "new_string = ''\n",
    "for character in new_list:\n",
    "    new_string += character\n",
    "stop = timer()\n",
    "print(f\"Concatanating: {new_string} --Time: {stop-start}\")"
   ]
  },
  {
   "cell_type": "markdown",
   "id": "0aedfd7a-5df8-49e3-8ff7-891182c38a68",
   "metadata": {},
   "source": [
    "# Collections"
   ]
  },
  {
   "cell_type": "markdown",
   "id": "54e6dac4-38a7-4b00-98b6-6dff3d8e3f5f",
   "metadata": {},
   "source": [
    "The collections module implements special container data types, and provides alternatives with additional functionality compared to the general collections like dictionaries, lists or tuples. So we will be talking about five different types from the collections module: The counter the named tuple, the ordered dictionary, the default dictionary, and the deque:\n",
    "\n",
    "- **Counter:** The counter is a container that stores the elements as dictionary keys, and their counts as dictionary values. We can also ask for the most common element in the dictionary.\n",
    "- **Named Tuple:** The named tuples are an easy to create and lightweight object types, similar to a struct. The first argument is always the class name. The second argument are the names of the field in the class, separated by either comma or space.\n",
    "- **Ordered Dictionary:** Just like a normal dictionary, but it remembers the order in which the elements where added. Therefore we can index elements, put() and pop(). Note, that in newer Python versions, the default dictionary type also remembers the order of elements.\n",
    "- **Default Dictionary:** Is also similar to a dictionary container, with the only difference is, that it will have a default value is the keys have been not set yet, depending on the type of the dictionary it was set\n",
    "- **Deque:** Is a double ended queue, and it is used to add and remove elements from either end. This is implemented in such a way, that it is very efficient. It can be also rotated."
   ]
  },
  {
   "cell_type": "code",
   "execution_count": 290,
   "id": "17cf7c59-dcd7-4220-a31a-61a9fb4b1969",
   "metadata": {},
   "outputs": [
    {
     "name": "stdout",
     "output_type": "stream",
     "text": [
      "The counter: Counter({'a': 7, 'b': 6, 'c': 6}) and the two most common type elements are: [('a', 7), ('b', 6)]\n",
      "The namedtuple: <class '__main__.Point'> is a struct that has a entity: Point(x=1, y=-4)\n",
      "The ordereddict: OrderedDict([('First Name', 'Varga'), ('Last Name', 'David')])\n",
      "The defaultdict: defaultdict(<class 'int'>, {'a': 1, 'b': 2}), the default value of int is 0\n",
      "The deque: deque(['how', 'are', 'you', 'doint']) pop from left: how - and extend it: None\n"
     ]
    }
   ],
   "source": [
    "# Example for counter\n",
    "from collections import Counter\n",
    "my_counter = Counter(\"aaaaaaabbbbbbcccccc\")\n",
    "print(f\"The counter: {my_counter} and the two most common type elements are: {my_counter.most_common(2)}\")\n",
    "\n",
    "# Example for named tuple\n",
    "from collections import namedtuple\n",
    "Point = namedtuple('Point', 'x,y')\n",
    "pt = Point(1, -4)\n",
    "print(f\"The namedtuple: {Point} is a struct that has a entity: {pt}\")\n",
    "\n",
    "# Example for ordered dictionary\n",
    "from collections import OrderedDict\n",
    "ordered_dict = OrderedDict()\n",
    "ordered_dict['First Name'] = \"Varga\"\n",
    "ordered_dict['Last Name'] = \"David\"\n",
    "print(f\"The ordereddict: {ordered_dict}\")\n",
    "\n",
    "# Example for default dictionary\n",
    "from collections import defaultdict\n",
    "default_dict = defaultdict(int)\n",
    "default_dict['a'] = 1\n",
    "default_dict['b'] = 2\n",
    "print(f\"The defaultdict: {default_dict}, the default value of int is {default_dict['c']}\")\n",
    "\n",
    "# Example for deque\n",
    "from collections import deque\n",
    "my_deque = deque(my_list)\n",
    "print(f\"The deque: {my_deque} pop from left: {my_deque.popleft()} - and extend it: {my_deque.extendleft(['dear', 'friend'])}\")"
   ]
  },
  {
   "cell_type": "markdown",
   "id": "5c39e45b-1f42-4db9-9fae-9a535c8f10d9",
   "metadata": {},
   "source": []
  }
 ],
 "metadata": {
  "kernelspec": {
   "display_name": "Python 3 (ipykernel)",
   "language": "python",
   "name": "python3"
  },
  "language_info": {
   "codemirror_mode": {
    "name": "ipython",
    "version": 3
   },
   "file_extension": ".py",
   "mimetype": "text/x-python",
   "name": "python",
   "nbconvert_exporter": "python",
   "pygments_lexer": "ipython3",
   "version": "3.11.7"
  }
 },
 "nbformat": 4,
 "nbformat_minor": 5
}
